{
 "cells": [
  {
   "cell_type": "code",
   "execution_count": null,
   "id": "738d1aac",
   "metadata": {},
   "outputs": [],
   "source": [
    "import pandas as pd\n",
    "import json"
   ]
  },
  {
   "cell_type": "code",
   "execution_count": null,
   "id": "ffbd6ae8",
   "metadata": {},
   "outputs": [],
   "source": [
    "matched_df = pd.read_csv('../data/matched_titles.csv')\n",
    "asin_to_movieid_title = {\n",
    "    row['asin']: (row['movieId'], row['movielens_title'])\n",
    "    for _, row in matched_df.iterrows()\n",
    "}"
   ]
  },
  {
   "cell_type": "code",
   "execution_count": null,
   "id": "95baf1fb",
   "metadata": {},
   "outputs": [],
   "source": [
    "filtered_reviews = []\n",
    "with open('./data/movies_and_tv.json', 'r') as f:\n",
    "    for line in f:\n",
    "        review = json.loads(line)\n",
    "        asin = review.get('asin')\n",
    "        if asin in asin_to_movieid_title and 'reviewText' in review and 'summary' in review:\n",
    "            movieId, matched_title = asin_to_movieid_title[asin]\n",
    "            filtered_reviews.append({\n",
    "                'movieId': movieId,\n",
    "                'asin': asin,\n",
    "                'title': matched_title,\n",
    "                'reviewText': review['reviewText'],\n",
    "                'summary': review['summary'],\n",
    "                'overall': review.get('overall', None)\n",
    "            })"
   ]
  },
  {
   "cell_type": "code",
   "execution_count": null,
   "id": "ef97ec1e",
   "metadata": {},
   "outputs": [],
   "source": [
    "with open('./data/matched_amazon_reviews.jsonl', 'w') as f:\n",
    "    for item in filtered_reviews:\n",
    "        f.write(json.dumps(item) + '\\n')\n",
    "\n",
    "print(f\"Saved {len(filtered_reviews)} filtered matched reviews.\")"
   ]
  }
 ],
 "metadata": {
  "kernelspec": {
   "display_name": ".venv",
   "language": "python",
   "name": "python3"
  },
  "language_info": {
   "name": "python",
   "version": "3.10.0"
  }
 },
 "nbformat": 4,
 "nbformat_minor": 5
}
