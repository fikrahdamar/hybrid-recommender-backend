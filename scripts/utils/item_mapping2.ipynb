{
 "cells": [
  {
   "cell_type": "code",
   "execution_count": 1,
   "id": "444646b7",
   "metadata": {},
   "outputs": [],
   "source": [
    "import pandas as pd\n",
    "\n",
    "matched_df = pd.read_json(\"../../data/processed/matched_amazon_reviews.jsonl\", lines=True)"
   ]
  },
  {
   "cell_type": "code",
   "execution_count": 2,
   "id": "5b62f433",
   "metadata": {},
   "outputs": [],
   "source": [
    "\n",
    "mapping_df = matched_df[[\"movieId\", \"asin\", \"title\"]]\n",
    "mapping_df = mapping_df.drop_duplicates(subset=[\"movieId\", \"asin\", \"title\"])\n",
    "mapping_df.columns = [\"item_index\", \"asin\", \"title\"]"
   ]
  },
  {
   "cell_type": "code",
   "execution_count": 3,
   "id": "75332fa7",
   "metadata": {},
   "outputs": [
    {
     "name": "stdout",
     "output_type": "stream",
     "text": [
      "✅ item_asin_mapping.csv berhasil disimpan!\n"
     ]
    }
   ],
   "source": [
    "# Menyimpan hasil ke file CSV\n",
    "mapping_df.to_csv(\"../../data/output/item_mapping.csv\", index=False)\n",
    "\n",
    "print(\"✅ item_asin_mapping.csv berhasil disimpan!\")"
   ]
  }
 ],
 "metadata": {
  "kernelspec": {
   "display_name": ".venv",
   "language": "python",
   "name": "python3"
  },
  "language_info": {
   "codemirror_mode": {
    "name": "ipython",
    "version": 3
   },
   "file_extension": ".py",
   "mimetype": "text/x-python",
   "name": "python",
   "nbconvert_exporter": "python",
   "pygments_lexer": "ipython3",
   "version": "3.10.0"
  }
 },
 "nbformat": 4,
 "nbformat_minor": 5
}
