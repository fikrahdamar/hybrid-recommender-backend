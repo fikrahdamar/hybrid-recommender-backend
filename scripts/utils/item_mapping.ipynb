{
 "cells": [
  {
   "cell_type": "code",
   "execution_count": 1,
   "id": "6633f8c0",
   "metadata": {},
   "outputs": [],
   "source": [
    "import pandas as pd\n",
    "matched_df = pd.read_csv(\"../data/matched_titles.csv\")  "
   ]
  },
  {
   "cell_type": "code",
   "execution_count": 2,
   "id": "c3d6b3ec",
   "metadata": {},
   "outputs": [],
   "source": [
    "\n",
    "mapping_df = matched_df[[\"movieId\", \"asin\"]].dropna()\n",
    "mapping_df.columns = [\"item_index\", \"asin\"]"
   ]
  },
  {
   "cell_type": "code",
   "execution_count": 3,
   "id": "f619389e",
   "metadata": {},
   "outputs": [
    {
     "name": "stdout",
     "output_type": "stream",
     "text": [
      "✅ item_asin_mapping.csv berhasil disimpan!\n"
     ]
    }
   ],
   "source": [
    "\n",
    "mapping_df.to_csv(\"../data/item_asin_mapping.csv\", index=False)\n",
    "\n",
    "print(\"✅ item_asin_mapping.csv berhasil disimpan!\")"
   ]
  }
 ],
 "metadata": {
  "kernelspec": {
   "display_name": ".venv",
   "language": "python",
   "name": "python3"
  },
  "language_info": {
   "codemirror_mode": {
    "name": "ipython",
    "version": 3
   },
   "file_extension": ".py",
   "mimetype": "text/x-python",
   "name": "python",
   "nbconvert_exporter": "python",
   "pygments_lexer": "ipython3",
   "version": "3.10.0"
  }
 },
 "nbformat": 4,
 "nbformat_minor": 5
}
