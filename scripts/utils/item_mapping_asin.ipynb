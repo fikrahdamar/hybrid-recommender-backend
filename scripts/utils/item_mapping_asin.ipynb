{
 "cells": [
  {
   "cell_type": "code",
   "execution_count": 1,
   "id": "940c566f",
   "metadata": {},
   "outputs": [],
   "source": [
    "import pandas as pd\n",
    "\n",
    "item_asin_mapping = pd.read_csv(\"../../data/mapping/item_asin_mapping.csv\")\n",
    "item_mapping = pd.read_csv(\"../../data/mapping/item_mapping.csv\")"
   ]
  },
  {
   "cell_type": "code",
   "execution_count": null,
   "id": "0b338671",
   "metadata": {},
   "outputs": [
    {
     "name": "stdout",
     "output_type": "stream",
     "text": [
      "✅ item_asin_mapping_with_title.csv berhasil disimpan!\n"
     ]
    }
   ],
   "source": [
    "\n",
    "item_mapping = item_mapping.drop_duplicates(subset=['asin'])\n",
    "merged_df = pd.merge(item_asin_mapping, item_mapping[['asin', 'title']], on='asin', how='left')\n",
    "merged_df.to_csv(\"../../data/output/item_asin_mapping_with_title(s).csv\", index=False)\n",
    "\n",
    "print(\"✅ item_asin_mapping_with_title.csv berhasil disimpan!\")"
   ]
  }
 ],
 "metadata": {
  "kernelspec": {
   "display_name": ".venv",
   "language": "python",
   "name": "python3"
  },
  "language_info": {
   "codemirror_mode": {
    "name": "ipython",
    "version": 3
   },
   "file_extension": ".py",
   "mimetype": "text/x-python",
   "name": "python",
   "nbconvert_exporter": "python",
   "pygments_lexer": "ipython3",
   "version": "3.10.0"
  }
 },
 "nbformat": 4,
 "nbformat_minor": 5
}
