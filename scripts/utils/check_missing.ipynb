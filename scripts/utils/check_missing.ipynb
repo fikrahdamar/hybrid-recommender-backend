{
 "cells": [
  {
   "cell_type": "code",
   "execution_count": 1,
   "id": "42dfd7a5",
   "metadata": {},
   "outputs": [],
   "source": [
    "import pandas as pd\n",
    "\n",
    "item_asin_mapping = pd.read_csv('../../data/mapping/item_asin_mapping_with_titles.csv')  \n",
    "item_asin_mapping_titles = pd.read_csv('../../data/mapping/asin_image_mapping_with_titles.csv')  \n"
   ]
  },
  {
   "cell_type": "code",
   "execution_count": 2,
   "id": "8e984483",
   "metadata": {},
   "outputs": [
    {
     "name": "stdout",
     "output_type": "stream",
     "text": [
      "item_asin_mapping: 1344 rows\n",
      "item_asin_mapping_titles: 1342 rows\n"
     ]
    }
   ],
   "source": [
    "print(f\"item_asin_mapping: {len(item_asin_mapping)} rows\")\n",
    "print(f\"item_asin_mapping_titles: {len(item_asin_mapping_titles)} rows\")"
   ]
  },
  {
   "cell_type": "code",
   "execution_count": 3,
   "id": "f47b5a0c",
   "metadata": {},
   "outputs": [],
   "source": [
    "missing_in_titles = set(item_asin_mapping['asin']) - set(item_asin_mapping_titles['asin'])\n",
    "missing_in_mapping = set(item_asin_mapping_titles['asin']) - set(item_asin_mapping['asin'])"
   ]
  },
  {
   "cell_type": "code",
   "execution_count": 4,
   "id": "e65ce8c9",
   "metadata": {},
   "outputs": [
    {
     "name": "stdout",
     "output_type": "stream",
     "text": [
      "Missing in item_asin_mapping_titles: {'B00X3DC6OE', '6303914985'}\n",
      "Missing in item_asin_mapping: set()\n"
     ]
    }
   ],
   "source": [
    "print(f\"Missing in item_asin_mapping_titles: {missing_in_titles}\")\n",
    "print(f\"Missing in item_asin_mapping: {missing_in_mapping}\")"
   ]
  }
 ],
 "metadata": {
  "kernelspec": {
   "display_name": ".venv",
   "language": "python",
   "name": "python3"
  },
  "language_info": {
   "codemirror_mode": {
    "name": "ipython",
    "version": 3
   },
   "file_extension": ".py",
   "mimetype": "text/x-python",
   "name": "python",
   "nbconvert_exporter": "python",
   "pygments_lexer": "ipython3",
   "version": "3.10.0"
  }
 },
 "nbformat": 4,
 "nbformat_minor": 5
}
