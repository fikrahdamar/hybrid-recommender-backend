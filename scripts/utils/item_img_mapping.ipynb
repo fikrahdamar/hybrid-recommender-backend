{
 "cells": [
  {
   "cell_type": "code",
   "execution_count": 3,
   "id": "8515a401",
   "metadata": {},
   "outputs": [],
   "source": [
    "import pandas as pd\n",
    "import json\n",
    "\n",
    "item_asin_mapping_titles = pd.read_csv('../../data/mapping/item_asin_mapping_with_titles.csv')\n",
    "data = []\n",
    "\n",
    "with open('../../data/raw_data/meta_Movies_and_TV.json', 'r') as f:\n",
    "    for line in f:\n",
    "        try:\n",
    "            item = json.loads(line)\n",
    "\n",
    "            if 'asin' not in item:\n",
    "                continue\n",
    "\n",
    "            image_url = (\n",
    "                item['imageURLHighRes'][0] if 'imageURLHighRes' in item and item['imageURLHighRes'] and item['imageURLHighRes'] != []\n",
    "                else item.get('imageURL', None)\n",
    "            )\n",
    "            data.append({\n",
    "                'asin': item['asin'],\n",
    "                'image_url': image_url\n",
    "            })\n",
    "\n",
    "        except json.JSONDecodeError:\n",
    "            continue"
   ]
  },
  {
   "cell_type": "code",
   "execution_count": null,
   "id": "17f109fe",
   "metadata": {},
   "outputs": [
    {
     "name": "stdout",
     "output_type": "stream",
     "text": [
      "         asin                                          image_url\n",
      "0  0000695009                                                 []\n",
      "1  0000791156  https://images-na.ssl-images-amazon.com/images...\n",
      "2  0000143529  https://images-na.ssl-images-amazon.com/images...\n",
      "3  0000143588                                                 []\n",
      "4  0000143502  https://images-na.ssl-images-amazon.com/images...\n",
      "asin         0\n",
      "image_url    0\n",
      "dtype: int64\n"
     ]
    }
   ],
   "source": [
    "image_df = pd.DataFrame(data)\n",
    "merged_df = pd.merge(item_asin_mapping_titles, image_df, on='asin', how='left')\n",
    "merged_df = merged_df.drop_duplicates(subset=['asin'])\n",
    "merged_df.to_csv('../../data/mapping/asin_image_mapping_with_titles.csv', index=False)\n",
    "\n",
    "print(image_df.head())\n",
    "print(image_df.isna().sum())"
   ]
  }
 ],
 "metadata": {
  "kernelspec": {
   "display_name": ".venv",
   "language": "python",
   "name": "python3"
  },
  "language_info": {
   "codemirror_mode": {
    "name": "ipython",
    "version": 3
   },
   "file_extension": ".py",
   "mimetype": "text/x-python",
   "name": "python",
   "nbconvert_exporter": "python",
   "pygments_lexer": "ipython3",
   "version": "3.10.0"
  }
 },
 "nbformat": 4,
 "nbformat_minor": 5
}
