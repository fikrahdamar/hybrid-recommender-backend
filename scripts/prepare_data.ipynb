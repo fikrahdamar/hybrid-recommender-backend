{
 "cells": [
  {
   "cell_type": "code",
   "execution_count": null,
   "id": "3aa32e07",
   "metadata": {},
   "outputs": [],
   "source": [
    "import pandas as pd\n",
    "import json\n",
    "import numpy as np\n",
    "from sklearn.preprocessing import LabelEncoder\n",
    "\n",
    "# Load MovieLens + Amazon matched\n",
    "ml_df = pd.read_csv('../data/ml_merged.csv')\n",
    "with open('../data/matched_amazon_reviews.jsonl') as f:\n",
    "    matched_data = [json.loads(line) for line in f]\n",
    "matched_df = pd.DataFrame(matched_data)\n",
    "\n",
    "# Ambil satu asin per movieId\n",
    "matched_unique = matched_df.drop_duplicates(subset='movieId', keep='first')\n",
    "\n",
    "# Gabungkan MovieLens dengan matched_asin\n",
    "merged = pd.merge(ml_df, matched_unique[['movieId', 'asin']], on='movieId', how='inner')\n",
    "merged = merged.dropna(subset=['asin'])\n",
    "\n",
    "# Load encoded vector ASIN\n",
    "df_qi = pd.read_csv('../data/encoded_amazon_vectors.csv')\n",
    "available_asins = set(df_qi['asin'])\n",
    "\n",
    "# Filter hanya asin yang punya vektor q_i\n",
    "merged = merged[merged['asin'].isin(available_asins)].copy()\n",
    "\n",
    "# Dapatkan urutan asin yang benar2 dipakai\n",
    "used_asins = merged['asin'].unique().tolist()"
   ]
  },
  {
   "cell_type": "code",
   "execution_count": null,
   "id": "d2dbb670",
   "metadata": {},
   "outputs": [
    {
     "name": "stderr",
     "output_type": "stream",
     "text": [
      "C:\\Users\\fikra\\AppData\\Local\\Temp\\ipykernel_12596\\1973966951.py:1: DtypeWarning: Columns (256) have mixed types. Specify dtype option on import or set low_memory=False.\n",
      "  df_qi = pd.read_csv('../data/encoded_amazon_vectors.csv')\n"
     ]
    },
    {
     "name": "stdout",
     "output_type": "stream",
     "text": [
      "Jumlah user unik: 6040\n",
      "Jumlah item unik: 1344\n"
     ]
    }
   ],
   "source": [
    "item_encoder = LabelEncoder()\n",
    "item_encoder.fit(used_asins)\n",
    "merged['item_index'] = item_encoder.transform(merged['asin'])\n",
    "\n",
    "# Encode userId\n",
    "user_encoder = LabelEncoder()\n",
    "merged['user_index'] = user_encoder.fit_transform(merged['userId'])\n",
    "\n",
    "# Simpan hasil\n",
    "print(\"Jumlah user unik:\", merged['user_index'].nunique())\n",
    "print(\"Jumlah item unik:\", merged['item_index'].nunique())\n",
    "merged[['user_index', 'item_index', 'rating']].to_csv('../data/pmf_training_data.csv', index=False)\n",
    "\n",
    "# Simpan mapping asin -> item_index\n",
    "mapping_df = merged[['item_index', 'asin']].drop_duplicates()\n",
    "mapping_df.to_csv('../data/item_asin_mapping.csv', index=False)\n",
    "\n",
    "# Simpan ulang asin order yang benar-benar digunakan untuk PMF (opsional, bisa dipakai load di trainer)\n",
    "pd.Series(used_asins).to_csv('../data/used_asins.csv', index=False, header=False)\n",
    "\n",
    "print(\"Selesai menyimpan PMF training data dan mapping.\")"
   ]
  },
  {
   "cell_type": "code",
   "execution_count": 5,
   "id": "8acf866f",
   "metadata": {},
   "outputs": [
    {
     "name": "stdout",
     "output_type": "stream",
     "text": [
      "Duplikasi user-item: 0\n"
     ]
    }
   ],
   "source": [
    "print(\"Duplikasi user-item:\", merged.duplicated(subset=['user_index', 'item_index']).sum())"
   ]
  }
 ],
 "metadata": {
  "kernelspec": {
   "display_name": ".venv",
   "language": "python",
   "name": "python3"
  },
  "language_info": {
   "codemirror_mode": {
    "name": "ipython",
    "version": 3
   },
   "file_extension": ".py",
   "mimetype": "text/x-python",
   "name": "python",
   "nbconvert_exporter": "python",
   "pygments_lexer": "ipython3",
   "version": "3.10.0"
  }
 },
 "nbformat": 4,
 "nbformat_minor": 5
}
