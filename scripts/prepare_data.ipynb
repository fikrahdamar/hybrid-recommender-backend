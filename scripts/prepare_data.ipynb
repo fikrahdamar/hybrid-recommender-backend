{
 "cells": [
  {
   "cell_type": "code",
   "execution_count": 2,
   "id": "3aa32e07",
   "metadata": {},
   "outputs": [
    {
     "name": "stdout",
     "output_type": "stream",
     "text": [
      "Total data setelah merge: 109148727\n"
     ]
    }
   ],
   "source": [
    "import pandas as pd\n",
    "import json\n",
    "\n",
    "\n",
    "ml_df = pd.read_csv('../data/ml_merged.csv')  # MovieLens: userId, movieId, rating, title\n",
    "with open('../data/matched_amazon_reviews.jsonl') as f:\n",
    "    matched_data = [json.loads(line) for line in f]\n",
    "matched_df = pd.DataFrame(matched_data)  # movieId, asin\n",
    "\n",
    "merged = pd.merge(ml_df, matched_df[['movieId', 'asin']], on='movieId', how='inner')\n",
    "\n",
    "merged = merged.dropna(subset=['asin'])\n",
    "print(f\"Total data setelah merge: {len(merged)}\")"
   ]
  },
  {
   "cell_type": "code",
   "execution_count": null,
   "id": "d2dbb670",
   "metadata": {},
   "outputs": [
    {
     "name": "stderr",
     "output_type": "stream",
     "text": [
      "C:\\Users\\fikra\\AppData\\Local\\Temp\\ipykernel_20696\\3639708975.py:4: DtypeWarning: Columns (256) have mixed types. Specify dtype option on import or set low_memory=False.\n",
      "  df_qi = pd.read_csv('../data/encoded_amazon_vectors.csv')\n"
     ]
    }
   ],
   "source": [
    "import numpy as np\n",
    "from sklearn.preprocessing import LabelEncoder\n",
    "\n",
    "df_qi = pd.read_csv('../data/encoded_amazon_vectors.csv')\n",
    "asin_order = df_qi['asin'].tolist()\n",
    "\n",
    "item_encoder = LabelEncoder()\n",
    "item_encoder.classes_ = np.array(asin_order)  \n",
    "merged['item_index'] = item_encoder.transform(merged['asin'])\n",
    "\n",
    "user_encoder = LabelEncoder()\n",
    "merged['user_index'] = user_encoder.fit_transform(merged['userId'])\n",
    "\n",
    "\n",
    "merged[['user_index', 'item_index', 'rating']].to_csv('../data/pmf_training_data.csv', index=False)"
   ]
  }
 ],
 "metadata": {
  "kernelspec": {
   "display_name": ".venv",
   "language": "python",
   "name": "python3"
  },
  "language_info": {
   "codemirror_mode": {
    "name": "ipython",
    "version": 3
   },
   "file_extension": ".py",
   "mimetype": "text/x-python",
   "name": "python",
   "nbconvert_exporter": "python",
   "pygments_lexer": "ipython3",
   "version": "3.10.0"
  }
 },
 "nbformat": 4,
 "nbformat_minor": 5
}
