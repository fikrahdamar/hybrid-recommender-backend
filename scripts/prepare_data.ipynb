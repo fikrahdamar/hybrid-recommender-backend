{
 "cells": [
  {
   "cell_type": "code",
   "execution_count": 3,
   "id": "3aa32e07",
   "metadata": {},
   "outputs": [
    {
     "name": "stdout",
     "output_type": "stream",
     "text": [
      "Total data setelah merge (no duplicate asin): 381285\n"
     ]
    }
   ],
   "source": [
    "import pandas as pd\n",
    "import json\n",
    "import numpy as np\n",
    "from sklearn.preprocessing import LabelEncoder\n",
    "\n",
    "\n",
    "ml_df = pd.read_csv('../data/ml_merged.csv') \n",
    "with open('../data/matched_amazon_reviews.jsonl') as f:\n",
    "    matched_data = [json.loads(line) for line in f]\n",
    "matched_df = pd.DataFrame(matched_data)  \n",
    "\n",
    "# --- Keep only one asin per movieId\n",
    "matched_unique = matched_df.drop_duplicates(subset='movieId', keep='first')\n",
    "\n",
    "# --- Merge MovieLens with unique matched asin\n",
    "merged = pd.merge(ml_df, matched_unique[['movieId', 'asin']], on='movieId', how='inner')\n",
    "merged = merged.dropna(subset=['asin'])\n",
    "\n",
    "print(f\"Total data setelah merge (no duplicate asin): {len(merged)}\")"
   ]
  },
  {
   "cell_type": "code",
   "execution_count": null,
   "id": "d2dbb670",
   "metadata": {},
   "outputs": [
    {
     "name": "stderr",
     "output_type": "stream",
     "text": [
      "C:\\Users\\fikra\\AppData\\Local\\Temp\\ipykernel_30404\\561628164.py:2: DtypeWarning: Columns (256) have mixed types. Specify dtype option on import or set low_memory=False.\n",
      "  df_qi = pd.read_csv('../data/encoded_amazon_vectors.csv')\n"
     ]
    },
    {
     "name": "stdout",
     "output_type": "stream",
     "text": [
      "Jumlah user unik: 6040\n",
      "Jumlah item unik: 1345\n"
     ]
    }
   ],
   "source": [
    "df_qi = pd.read_csv('../data/encoded_amazon_vectors.csv')\n",
    "asin_order = df_qi['asin'].tolist()\n",
    "\n",
    "item_encoder = LabelEncoder()\n",
    "item_encoder.classes_ = np.array(asin_order)\n",
    "merged['item_index'] = item_encoder.transform(merged['asin'])\n",
    "\n",
    "# --- Label encoding userId\n",
    "user_encoder = LabelEncoder()\n",
    "merged['user_index'] = user_encoder.fit_transform(merged['userId'])\n",
    "\n",
    "# --- Simpan untuk training PMF\n",
    "print(\"Jumlah user unik:\", merged['user_index'].nunique())\n",
    "print(\"Jumlah item unik:\", merged['item_index'].nunique())\n",
    "merged[['user_index', 'item_index', 'rating']].to_csv('../data/pmf_training_data.csv', index=False)"
   ]
  },
  {
   "cell_type": "code",
   "execution_count": 5,
   "id": "8acf866f",
   "metadata": {},
   "outputs": [
    {
     "name": "stdout",
     "output_type": "stream",
     "text": [
      "Duplikasi user-item: 0\n"
     ]
    }
   ],
   "source": [
    "print(\"Duplikasi user-item:\", merged.duplicated(subset=['user_index', 'item_index']).sum())"
   ]
  }
 ],
 "metadata": {
  "kernelspec": {
   "display_name": ".venv",
   "language": "python",
   "name": "python3"
  },
  "language_info": {
   "codemirror_mode": {
    "name": "ipython",
    "version": 3
   },
   "file_extension": ".py",
   "mimetype": "text/x-python",
   "name": "python",
   "nbconvert_exporter": "python",
   "pygments_lexer": "ipython3",
   "version": "3.10.0"
  }
 },
 "nbformat": 4,
 "nbformat_minor": 5
}
