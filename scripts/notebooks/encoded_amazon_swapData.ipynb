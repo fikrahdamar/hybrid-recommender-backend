{
 "cells": [
  {
   "cell_type": "code",
   "execution_count": 1,
   "id": "f62790d1",
   "metadata": {},
   "outputs": [
    {
     "name": "stderr",
     "output_type": "stream",
     "text": [
      "C:\\Users\\fikra\\AppData\\Local\\Temp\\ipykernel_28260\\890921832.py:3: DtypeWarning: Columns (256) have mixed types. Specify dtype option on import or set low_memory=False.\n",
      "  df = pd.read_csv('../data/data_optimal_encoded/encoded_amazon_vectors.csv')\n"
     ]
    }
   ],
   "source": [
    "import pandas as pd\n",
    "\n",
    "df = pd.read_csv('../data/data_optimal_encoded/encoded_amazon_vectors.csv')\n",
    "\n",
    "cols = df.columns.tolist()\n",
    "cols.remove('asin')\n",
    "new_order = ['asin'] + cols\n",
    "df = df[new_order]\n",
    "\n",
    "\n"
   ]
  },
  {
   "cell_type": "code",
   "execution_count": 3,
   "id": "5718721d",
   "metadata": {},
   "outputs": [],
   "source": [
    "df.to_csv('../data/data_optimal_encoded/encoded_amazon_vectors_new.csv', index=False)"
   ]
  }
 ],
 "metadata": {
  "kernelspec": {
   "display_name": ".venv",
   "language": "python",
   "name": "python3"
  },
  "language_info": {
   "codemirror_mode": {
    "name": "ipython",
    "version": 3
   },
   "file_extension": ".py",
   "mimetype": "text/x-python",
   "name": "python",
   "nbconvert_exporter": "python",
   "pygments_lexer": "ipython3",
   "version": "3.10.0"
  }
 },
 "nbformat": 4,
 "nbformat_minor": 5
}
