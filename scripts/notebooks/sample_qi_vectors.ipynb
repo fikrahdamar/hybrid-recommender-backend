{
 "cells": [
  {
   "cell_type": "code",
   "execution_count": 1,
   "id": "2d06f12f",
   "metadata": {},
   "outputs": [
    {
     "name": "stderr",
     "output_type": "stream",
     "text": [
      "C:\\Users\\fikra\\AppData\\Local\\Temp\\ipykernel_29448\\1414215427.py:3: DtypeWarning: Columns (256) have mixed types. Specify dtype option on import or set low_memory=False.\n",
      "  df = pd.read_csv('../data/encoded_amazon_vectors.csv')\n"
     ]
    }
   ],
   "source": [
    "import pandas as pd\n",
    "\n",
    "df = pd.read_csv('../data/encoded_amazon_vectors.csv')\n",
    "df.head(1000).to_csv('sample_qi_vectors.csv', index=False)"
   ]
  },
  {
   "cell_type": "code",
   "execution_count": 2,
   "id": "b949f360",
   "metadata": {},
   "outputs": [
    {
     "name": "stdout",
     "output_type": "stream",
     "text": [
      "         mean       std\n",
      "0   -0.000775  0.005419\n",
      "1    0.001311  0.005305\n",
      "2   -0.002131  0.005098\n",
      "3   -0.000962  0.004732\n",
      "4    0.000376  0.005177\n",
      "..        ...       ...\n",
      "251  0.002097  0.004649\n",
      "252 -0.000476  0.006118\n",
      "253 -0.000452  0.004763\n",
      "254 -0.000360  0.005722\n",
      "255 -0.000514  0.005100\n",
      "\n",
      "[256 rows x 2 columns]\n"
     ]
    }
   ],
   "source": [
    "print(df.describe().T[['mean', 'std']])"
   ]
  }
 ],
 "metadata": {
  "kernelspec": {
   "display_name": ".venv",
   "language": "python",
   "name": "python3"
  },
  "language_info": {
   "codemirror_mode": {
    "name": "ipython",
    "version": 3
   },
   "file_extension": ".py",
   "mimetype": "text/x-python",
   "name": "python",
   "nbconvert_exporter": "python",
   "pygments_lexer": "ipython3",
   "version": "3.10.0"
  }
 },
 "nbformat": 4,
 "nbformat_minor": 5
}
