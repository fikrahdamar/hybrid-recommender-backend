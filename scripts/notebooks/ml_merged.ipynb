{
 "cells": [
  {
   "cell_type": "code",
   "execution_count": 1,
   "id": "7c5bbe46",
   "metadata": {},
   "outputs": [],
   "source": [
    "import pandas as pd"
   ]
  },
  {
   "cell_type": "code",
   "execution_count": 6,
   "id": "24b8b708",
   "metadata": {},
   "outputs": [],
   "source": [
    "ratings = pd.read_csv('../data/movielens_ratings.dat', sep='::', engine='python', names=['userId', 'movieId', 'rating', 'timestamp'], usecols=['userId', 'movieId', 'rating'], encoding='latin-1')\n",
    "movies = pd.read_csv('../data/movielens_movies.dat', sep='::', engine='python', names=['movieId', 'title', 'genres'], encoding='latin-1')\n",
    "\n",
    "merged_df = pd.merge(ratings, movies[['movieId', 'title']], on='movieId')"
   ]
  },
  {
   "cell_type": "code",
   "execution_count": 8,
   "id": "eba70469",
   "metadata": {},
   "outputs": [
    {
     "name": "stdout",
     "output_type": "stream",
     "text": [
      "   userId  movieId  rating                                   title\n",
      "0       1     1193       5  One Flew Over the Cuckoo's Nest (1975)\n",
      "1       1      661       3        James and the Giant Peach (1996)\n",
      "2       1      914       3                     My Fair Lady (1964)\n",
      "3       1     3408       4                  Erin Brockovich (2000)\n",
      "4       1     2355       5                    Bug's Life, A (1998)\n"
     ]
    }
   ],
   "source": [
    "print(merged_df.head(5))"
   ]
  },
  {
   "cell_type": "code",
   "execution_count": 9,
   "id": "ad92b03b",
   "metadata": {},
   "outputs": [],
   "source": [
    "merged_df.to_csv('../data/ml_merged.csv', index=False)"
   ]
  }
 ],
 "metadata": {
  "kernelspec": {
   "display_name": ".venv",
   "language": "python",
   "name": "python3"
  },
  "language_info": {
   "codemirror_mode": {
    "name": "ipython",
    "version": 3
   },
   "file_extension": ".py",
   "mimetype": "text/x-python",
   "name": "python",
   "nbconvert_exporter": "python",
   "pygments_lexer": "ipython3",
   "version": "3.10.0"
  }
 },
 "nbformat": 4,
 "nbformat_minor": 5
}
